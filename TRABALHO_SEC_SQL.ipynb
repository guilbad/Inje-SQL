{
  "nbformat": 4,
  "nbformat_minor": 0,
  "metadata": {
    "colab": {
      "provenance": [],
      "include_colab_link": true
    },
    "kernelspec": {
      "name": "python3",
      "display_name": "Python 3"
    },
    "language_info": {
      "name": "python"
    },
    "widgets": {
      "application/vnd.jupyter.widget-state+json": {
        "a452cb0c488f464dbde34403c25cbb69": {
          "model_module": "@jupyter-widgets/controls",
          "model_name": "TextModel",
          "model_module_version": "1.5.0",
          "state": {
            "_dom_classes": [],
            "_model_module": "@jupyter-widgets/controls",
            "_model_module_version": "1.5.0",
            "_model_name": "TextModel",
            "_view_count": null,
            "_view_module": "@jupyter-widgets/controls",
            "_view_module_version": "1.5.0",
            "_view_name": "TextView",
            "continuous_update": true,
            "description": "Usuário:",
            "description_tooltip": null,
            "disabled": false,
            "layout": "IPY_MODEL_2e0aea4eb2134bccad93ae51af46c8e9",
            "placeholder": "Digite seu nome de usuário",
            "style": "IPY_MODEL_698397184a634c04bc70db8d2fd58577",
            "value": "admin' OR '1'='1"
          }
        },
        "2e0aea4eb2134bccad93ae51af46c8e9": {
          "model_module": "@jupyter-widgets/base",
          "model_name": "LayoutModel",
          "model_module_version": "1.2.0",
          "state": {
            "_model_module": "@jupyter-widgets/base",
            "_model_module_version": "1.2.0",
            "_model_name": "LayoutModel",
            "_view_count": null,
            "_view_module": "@jupyter-widgets/base",
            "_view_module_version": "1.2.0",
            "_view_name": "LayoutView",
            "align_content": null,
            "align_items": null,
            "align_self": null,
            "border": null,
            "bottom": null,
            "display": null,
            "flex": null,
            "flex_flow": null,
            "grid_area": null,
            "grid_auto_columns": null,
            "grid_auto_flow": null,
            "grid_auto_rows": null,
            "grid_column": null,
            "grid_gap": null,
            "grid_row": null,
            "grid_template_areas": null,
            "grid_template_columns": null,
            "grid_template_rows": null,
            "height": null,
            "justify_content": null,
            "justify_items": null,
            "left": null,
            "margin": null,
            "max_height": null,
            "max_width": null,
            "min_height": null,
            "min_width": null,
            "object_fit": null,
            "object_position": null,
            "order": null,
            "overflow": null,
            "overflow_x": null,
            "overflow_y": null,
            "padding": null,
            "right": null,
            "top": null,
            "visibility": null,
            "width": null
          }
        },
        "698397184a634c04bc70db8d2fd58577": {
          "model_module": "@jupyter-widgets/controls",
          "model_name": "DescriptionStyleModel",
          "model_module_version": "1.5.0",
          "state": {
            "_model_module": "@jupyter-widgets/controls",
            "_model_module_version": "1.5.0",
            "_model_name": "DescriptionStyleModel",
            "_view_count": null,
            "_view_module": "@jupyter-widgets/base",
            "_view_module_version": "1.2.0",
            "_view_name": "StyleView",
            "description_width": ""
          }
        },
        "6b9c4548bd144b939f9391e581bb7619": {
          "model_module": "@jupyter-widgets/controls",
          "model_name": "PasswordModel",
          "model_module_version": "1.5.0",
          "state": {
            "_dom_classes": [],
            "_model_module": "@jupyter-widgets/controls",
            "_model_module_version": "1.5.0",
            "_model_name": "PasswordModel",
            "_view_count": null,
            "_view_module": "@jupyter-widgets/controls",
            "_view_module_version": "1.5.0",
            "_view_name": "PasswordView",
            "continuous_update": true,
            "description": "Senha:",
            "description_tooltip": null,
            "disabled": false,
            "layout": "IPY_MODEL_19366cd3c3af4891b6c2d963bd5dcaa4",
            "placeholder": "Digite sua senha",
            "style": "IPY_MODEL_d8d44e528ebd4474a7ebcb7fc396fb39",
            "value": "123456789"
          }
        },
        "19366cd3c3af4891b6c2d963bd5dcaa4": {
          "model_module": "@jupyter-widgets/base",
          "model_name": "LayoutModel",
          "model_module_version": "1.2.0",
          "state": {
            "_model_module": "@jupyter-widgets/base",
            "_model_module_version": "1.2.0",
            "_model_name": "LayoutModel",
            "_view_count": null,
            "_view_module": "@jupyter-widgets/base",
            "_view_module_version": "1.2.0",
            "_view_name": "LayoutView",
            "align_content": null,
            "align_items": null,
            "align_self": null,
            "border": null,
            "bottom": null,
            "display": null,
            "flex": null,
            "flex_flow": null,
            "grid_area": null,
            "grid_auto_columns": null,
            "grid_auto_flow": null,
            "grid_auto_rows": null,
            "grid_column": null,
            "grid_gap": null,
            "grid_row": null,
            "grid_template_areas": null,
            "grid_template_columns": null,
            "grid_template_rows": null,
            "height": null,
            "justify_content": null,
            "justify_items": null,
            "left": null,
            "margin": null,
            "max_height": null,
            "max_width": null,
            "min_height": null,
            "min_width": null,
            "object_fit": null,
            "object_position": null,
            "order": null,
            "overflow": null,
            "overflow_x": null,
            "overflow_y": null,
            "padding": null,
            "right": null,
            "top": null,
            "visibility": null,
            "width": null
          }
        },
        "d8d44e528ebd4474a7ebcb7fc396fb39": {
          "model_module": "@jupyter-widgets/controls",
          "model_name": "DescriptionStyleModel",
          "model_module_version": "1.5.0",
          "state": {
            "_model_module": "@jupyter-widgets/controls",
            "_model_module_version": "1.5.0",
            "_model_name": "DescriptionStyleModel",
            "_view_count": null,
            "_view_module": "@jupyter-widgets/base",
            "_view_module_version": "1.2.0",
            "_view_name": "StyleView",
            "description_width": ""
          }
        },
        "1d8d30543c3246b9822368ab1b4e1907": {
          "model_module": "@jupyter-widgets/controls",
          "model_name": "ButtonModel",
          "model_module_version": "1.5.0",
          "state": {
            "_dom_classes": [],
            "_model_module": "@jupyter-widgets/controls",
            "_model_module_version": "1.5.0",
            "_model_name": "ButtonModel",
            "_view_count": null,
            "_view_module": "@jupyter-widgets/controls",
            "_view_module_version": "1.5.0",
            "_view_name": "ButtonView",
            "button_style": "",
            "description": "Login",
            "disabled": false,
            "icon": "",
            "layout": "IPY_MODEL_85ef3ed24ba54668bcd02b9141093f45",
            "style": "IPY_MODEL_cc4aa5fe48514f489faeef2c9472f870",
            "tooltip": ""
          }
        },
        "85ef3ed24ba54668bcd02b9141093f45": {
          "model_module": "@jupyter-widgets/base",
          "model_name": "LayoutModel",
          "model_module_version": "1.2.0",
          "state": {
            "_model_module": "@jupyter-widgets/base",
            "_model_module_version": "1.2.0",
            "_model_name": "LayoutModel",
            "_view_count": null,
            "_view_module": "@jupyter-widgets/base",
            "_view_module_version": "1.2.0",
            "_view_name": "LayoutView",
            "align_content": null,
            "align_items": null,
            "align_self": null,
            "border": null,
            "bottom": null,
            "display": null,
            "flex": null,
            "flex_flow": null,
            "grid_area": null,
            "grid_auto_columns": null,
            "grid_auto_flow": null,
            "grid_auto_rows": null,
            "grid_column": null,
            "grid_gap": null,
            "grid_row": null,
            "grid_template_areas": null,
            "grid_template_columns": null,
            "grid_template_rows": null,
            "height": null,
            "justify_content": null,
            "justify_items": null,
            "left": null,
            "margin": null,
            "max_height": null,
            "max_width": null,
            "min_height": null,
            "min_width": null,
            "object_fit": null,
            "object_position": null,
            "order": null,
            "overflow": null,
            "overflow_x": null,
            "overflow_y": null,
            "padding": null,
            "right": null,
            "top": null,
            "visibility": null,
            "width": null
          }
        },
        "cc4aa5fe48514f489faeef2c9472f870": {
          "model_module": "@jupyter-widgets/controls",
          "model_name": "ButtonStyleModel",
          "model_module_version": "1.5.0",
          "state": {
            "_model_module": "@jupyter-widgets/controls",
            "_model_module_version": "1.5.0",
            "_model_name": "ButtonStyleModel",
            "_view_count": null,
            "_view_module": "@jupyter-widgets/base",
            "_view_module_version": "1.2.0",
            "_view_name": "StyleView",
            "button_color": null,
            "font_weight": ""
          }
        },
        "93d46dbdc43042b4a8a47ea86e643b0c": {
          "model_module": "@jupyter-widgets/output",
          "model_name": "OutputModel",
          "model_module_version": "1.0.0",
          "state": {
            "_dom_classes": [],
            "_model_module": "@jupyter-widgets/output",
            "_model_module_version": "1.0.0",
            "_model_name": "OutputModel",
            "_view_count": null,
            "_view_module": "@jupyter-widgets/output",
            "_view_module_version": "1.0.0",
            "_view_name": "OutputView",
            "layout": "IPY_MODEL_b23e943684c44b6ab23d2973e9f87fcb",
            "msg_id": "",
            "outputs": [
              {
                "output_type": "stream",
                "name": "stdout",
                "text": [
                  "ID: 1, Usuário: admin, Senha: 1234, Estado de Residencia: São Paulo\n"
                ]
              }
            ]
          }
        },
        "b23e943684c44b6ab23d2973e9f87fcb": {
          "model_module": "@jupyter-widgets/base",
          "model_name": "LayoutModel",
          "model_module_version": "1.2.0",
          "state": {
            "_model_module": "@jupyter-widgets/base",
            "_model_module_version": "1.2.0",
            "_model_name": "LayoutModel",
            "_view_count": null,
            "_view_module": "@jupyter-widgets/base",
            "_view_module_version": "1.2.0",
            "_view_name": "LayoutView",
            "align_content": null,
            "align_items": null,
            "align_self": null,
            "border": null,
            "bottom": null,
            "display": null,
            "flex": null,
            "flex_flow": null,
            "grid_area": null,
            "grid_auto_columns": null,
            "grid_auto_flow": null,
            "grid_auto_rows": null,
            "grid_column": null,
            "grid_gap": null,
            "grid_row": null,
            "grid_template_areas": null,
            "grid_template_columns": null,
            "grid_template_rows": null,
            "height": null,
            "justify_content": null,
            "justify_items": null,
            "left": null,
            "margin": null,
            "max_height": null,
            "max_width": null,
            "min_height": null,
            "min_width": null,
            "object_fit": null,
            "object_position": null,
            "order": null,
            "overflow": null,
            "overflow_x": null,
            "overflow_y": null,
            "padding": null,
            "right": null,
            "top": null,
            "visibility": null,
            "width": null
          }
        },
        "fc6a15d7576b42f5ba7e90d2962f16fd": {
          "model_module": "@jupyter-widgets/controls",
          "model_name": "TextModel",
          "model_module_version": "1.5.0",
          "state": {
            "_dom_classes": [],
            "_model_module": "@jupyter-widgets/controls",
            "_model_module_version": "1.5.0",
            "_model_name": "TextModel",
            "_view_count": null,
            "_view_module": "@jupyter-widgets/controls",
            "_view_module_version": "1.5.0",
            "_view_name": "TextView",
            "continuous_update": true,
            "description": "Usuário:",
            "description_tooltip": null,
            "disabled": false,
            "layout": "IPY_MODEL_a3c9d078083242e699814463830f2604",
            "placeholder": "Digite seu nome de usuário",
            "style": "IPY_MODEL_1b5cc17ab0e24eaf9cc3f0c12e4714fe",
            "value": ""
          }
        },
        "a3c9d078083242e699814463830f2604": {
          "model_module": "@jupyter-widgets/base",
          "model_name": "LayoutModel",
          "model_module_version": "1.2.0",
          "state": {
            "_model_module": "@jupyter-widgets/base",
            "_model_module_version": "1.2.0",
            "_model_name": "LayoutModel",
            "_view_count": null,
            "_view_module": "@jupyter-widgets/base",
            "_view_module_version": "1.2.0",
            "_view_name": "LayoutView",
            "align_content": null,
            "align_items": null,
            "align_self": null,
            "border": null,
            "bottom": null,
            "display": null,
            "flex": null,
            "flex_flow": null,
            "grid_area": null,
            "grid_auto_columns": null,
            "grid_auto_flow": null,
            "grid_auto_rows": null,
            "grid_column": null,
            "grid_gap": null,
            "grid_row": null,
            "grid_template_areas": null,
            "grid_template_columns": null,
            "grid_template_rows": null,
            "height": null,
            "justify_content": null,
            "justify_items": null,
            "left": null,
            "margin": null,
            "max_height": null,
            "max_width": null,
            "min_height": null,
            "min_width": null,
            "object_fit": null,
            "object_position": null,
            "order": null,
            "overflow": null,
            "overflow_x": null,
            "overflow_y": null,
            "padding": null,
            "right": null,
            "top": null,
            "visibility": null,
            "width": null
          }
        },
        "1b5cc17ab0e24eaf9cc3f0c12e4714fe": {
          "model_module": "@jupyter-widgets/controls",
          "model_name": "DescriptionStyleModel",
          "model_module_version": "1.5.0",
          "state": {
            "_model_module": "@jupyter-widgets/controls",
            "_model_module_version": "1.5.0",
            "_model_name": "DescriptionStyleModel",
            "_view_count": null,
            "_view_module": "@jupyter-widgets/base",
            "_view_module_version": "1.2.0",
            "_view_name": "StyleView",
            "description_width": ""
          }
        },
        "97fce1be09084954859b43c442e5cbd8": {
          "model_module": "@jupyter-widgets/controls",
          "model_name": "PasswordModel",
          "model_module_version": "1.5.0",
          "state": {
            "_dom_classes": [],
            "_model_module": "@jupyter-widgets/controls",
            "_model_module_version": "1.5.0",
            "_model_name": "PasswordModel",
            "_view_count": null,
            "_view_module": "@jupyter-widgets/controls",
            "_view_module_version": "1.5.0",
            "_view_name": "PasswordView",
            "continuous_update": true,
            "description": "Senha:",
            "description_tooltip": null,
            "disabled": false,
            "layout": "IPY_MODEL_303e30cb94b34a359a8e91c104c679cc",
            "placeholder": "Digite sua senha",
            "style": "IPY_MODEL_670d0a0284fc4928895a5ca1b0e5bed9",
            "value": ""
          }
        },
        "303e30cb94b34a359a8e91c104c679cc": {
          "model_module": "@jupyter-widgets/base",
          "model_name": "LayoutModel",
          "model_module_version": "1.2.0",
          "state": {
            "_model_module": "@jupyter-widgets/base",
            "_model_module_version": "1.2.0",
            "_model_name": "LayoutModel",
            "_view_count": null,
            "_view_module": "@jupyter-widgets/base",
            "_view_module_version": "1.2.0",
            "_view_name": "LayoutView",
            "align_content": null,
            "align_items": null,
            "align_self": null,
            "border": null,
            "bottom": null,
            "display": null,
            "flex": null,
            "flex_flow": null,
            "grid_area": null,
            "grid_auto_columns": null,
            "grid_auto_flow": null,
            "grid_auto_rows": null,
            "grid_column": null,
            "grid_gap": null,
            "grid_row": null,
            "grid_template_areas": null,
            "grid_template_columns": null,
            "grid_template_rows": null,
            "height": null,
            "justify_content": null,
            "justify_items": null,
            "left": null,
            "margin": null,
            "max_height": null,
            "max_width": null,
            "min_height": null,
            "min_width": null,
            "object_fit": null,
            "object_position": null,
            "order": null,
            "overflow": null,
            "overflow_x": null,
            "overflow_y": null,
            "padding": null,
            "right": null,
            "top": null,
            "visibility": null,
            "width": null
          }
        },
        "670d0a0284fc4928895a5ca1b0e5bed9": {
          "model_module": "@jupyter-widgets/controls",
          "model_name": "DescriptionStyleModel",
          "model_module_version": "1.5.0",
          "state": {
            "_model_module": "@jupyter-widgets/controls",
            "_model_module_version": "1.5.0",
            "_model_name": "DescriptionStyleModel",
            "_view_count": null,
            "_view_module": "@jupyter-widgets/base",
            "_view_module_version": "1.2.0",
            "_view_name": "StyleView",
            "description_width": ""
          }
        },
        "8550dace3aa448318efec15935ae15a3": {
          "model_module": "@jupyter-widgets/controls",
          "model_name": "ButtonModel",
          "model_module_version": "1.5.0",
          "state": {
            "_dom_classes": [],
            "_model_module": "@jupyter-widgets/controls",
            "_model_module_version": "1.5.0",
            "_model_name": "ButtonModel",
            "_view_count": null,
            "_view_module": "@jupyter-widgets/controls",
            "_view_module_version": "1.5.0",
            "_view_name": "ButtonView",
            "button_style": "",
            "description": "Login",
            "disabled": false,
            "icon": "",
            "layout": "IPY_MODEL_12a1521360304e20a37d5feb91e6f3f7",
            "style": "IPY_MODEL_43515f4ada2d4d039f2e187f08867963",
            "tooltip": ""
          }
        },
        "12a1521360304e20a37d5feb91e6f3f7": {
          "model_module": "@jupyter-widgets/base",
          "model_name": "LayoutModel",
          "model_module_version": "1.2.0",
          "state": {
            "_model_module": "@jupyter-widgets/base",
            "_model_module_version": "1.2.0",
            "_model_name": "LayoutModel",
            "_view_count": null,
            "_view_module": "@jupyter-widgets/base",
            "_view_module_version": "1.2.0",
            "_view_name": "LayoutView",
            "align_content": null,
            "align_items": null,
            "align_self": null,
            "border": null,
            "bottom": null,
            "display": null,
            "flex": null,
            "flex_flow": null,
            "grid_area": null,
            "grid_auto_columns": null,
            "grid_auto_flow": null,
            "grid_auto_rows": null,
            "grid_column": null,
            "grid_gap": null,
            "grid_row": null,
            "grid_template_areas": null,
            "grid_template_columns": null,
            "grid_template_rows": null,
            "height": null,
            "justify_content": null,
            "justify_items": null,
            "left": null,
            "margin": null,
            "max_height": null,
            "max_width": null,
            "min_height": null,
            "min_width": null,
            "object_fit": null,
            "object_position": null,
            "order": null,
            "overflow": null,
            "overflow_x": null,
            "overflow_y": null,
            "padding": null,
            "right": null,
            "top": null,
            "visibility": null,
            "width": null
          }
        },
        "43515f4ada2d4d039f2e187f08867963": {
          "model_module": "@jupyter-widgets/controls",
          "model_name": "ButtonStyleModel",
          "model_module_version": "1.5.0",
          "state": {
            "_model_module": "@jupyter-widgets/controls",
            "_model_module_version": "1.5.0",
            "_model_name": "ButtonStyleModel",
            "_view_count": null,
            "_view_module": "@jupyter-widgets/base",
            "_view_module_version": "1.2.0",
            "_view_name": "StyleView",
            "button_color": null,
            "font_weight": ""
          }
        },
        "9a1fa8ca2f984eab92de9ae43017ba51": {
          "model_module": "@jupyter-widgets/output",
          "model_name": "OutputModel",
          "model_module_version": "1.0.0",
          "state": {
            "_dom_classes": [],
            "_model_module": "@jupyter-widgets/output",
            "_model_module_version": "1.0.0",
            "_model_name": "OutputModel",
            "_view_count": null,
            "_view_module": "@jupyter-widgets/output",
            "_view_module_version": "1.0.0",
            "_view_name": "OutputView",
            "layout": "IPY_MODEL_c5204560954c422299d64490eca0ed8b",
            "msg_id": "",
            "outputs": []
          }
        },
        "c5204560954c422299d64490eca0ed8b": {
          "model_module": "@jupyter-widgets/base",
          "model_name": "LayoutModel",
          "model_module_version": "1.2.0",
          "state": {
            "_model_module": "@jupyter-widgets/base",
            "_model_module_version": "1.2.0",
            "_model_name": "LayoutModel",
            "_view_count": null,
            "_view_module": "@jupyter-widgets/base",
            "_view_module_version": "1.2.0",
            "_view_name": "LayoutView",
            "align_content": null,
            "align_items": null,
            "align_self": null,
            "border": null,
            "bottom": null,
            "display": null,
            "flex": null,
            "flex_flow": null,
            "grid_area": null,
            "grid_auto_columns": null,
            "grid_auto_flow": null,
            "grid_auto_rows": null,
            "grid_column": null,
            "grid_gap": null,
            "grid_row": null,
            "grid_template_areas": null,
            "grid_template_columns": null,
            "grid_template_rows": null,
            "height": null,
            "justify_content": null,
            "justify_items": null,
            "left": null,
            "margin": null,
            "max_height": null,
            "max_width": null,
            "min_height": null,
            "min_width": null,
            "object_fit": null,
            "object_position": null,
            "order": null,
            "overflow": null,
            "overflow_x": null,
            "overflow_y": null,
            "padding": null,
            "right": null,
            "top": null,
            "visibility": null,
            "width": null
          }
        }
      }
    }
  },
  "cells": [
    {
      "cell_type": "markdown",
      "metadata": {
        "id": "view-in-github",
        "colab_type": "text"
      },
      "source": [
        "<a href=\"https://colab.research.google.com/github/ddouglss/Inje-o_SQL/blob/main/TRABALHO_SEC_SQL.ipynb\" target=\"_parent\"><img src=\"https://colab.research.google.com/assets/colab-badge.svg\" alt=\"Open In Colab\"/></a>"
      ]
    },
    {
      "cell_type": "markdown",
      "source": [],
      "metadata": {
        "id": "7tTkxSEzo9j1"
      }
    },
    {
      "cell_type": "code",
      "execution_count": null,
      "metadata": {
        "id": "rehW-C-UISqL"
      },
      "outputs": [],
      "source": []
    },
    {
      "cell_type": "markdown",
      "source": [
        "*Alunos: Guilherme e Douglas\n",
        " TDS - 3A\n",
        "\n",
        "```\n",
        "# Isto está formatado como código\n",
        "```\n",
        "\n"
      ],
      "metadata": {
        "id": "z-5UA2LvnkKJ"
      }
    },
    {
      "cell_type": "markdown",
      "source": [
        "Script Vuneravel"
      ],
      "metadata": {
        "id": "3CkmOF_BIY5t"
      }
    },
    {
      "cell_type": "code",
      "source": [
        "import sqlite3\n",
        "import ipywidgets as widgets\n",
        "from IPython.display import display, clear_output\n",
        "\n",
        "# Conexão com o banco de dados SQLite persistente\n",
        "def create_db():\n",
        "    conn = sqlite3.connect('usuarios.db')  # Cria o arquivo de banco de dados\n",
        "    cursor = conn.cursor()\n",
        "\n",
        "    # Tabela de usuários\n",
        "    cursor.execute('''\n",
        "    CREATE TABLE IF NOT EXISTS users (\n",
        "        id INTEGER PRIMARY KEY AUTOINCREMENT,\n",
        "        username TEXT NOT NULL,\n",
        "        password TEXT NOT NULL,\n",
        "        estado TEXT NOT NULL\n",
        "    )\n",
        "    ''')\n",
        "\n",
        "    # Inserir usuários e dados\n",
        "    cursor.execute(\"SELECT COUNT(*) FROM users\")\n",
        "    if cursor.fetchone()[0] == 0:\n",
        "        usuarios = [\n",
        "            ('admin', '1234', 'São Paulo'),\n",
        "            ('user1', 'abcd', 'Rio de Janeiro'),\n",
        "            ('user2', 'efgh', 'Minas Gerais'),\n",
        "            ('user3', 'ijkl', 'Bahia'),\n",
        "            ('user4', 'mnop', 'Paraná'),\n",
        "            ('user5', 'qrst', 'Rio Grande do Sul'),\n",
        "            ('user6', 'uvwx', 'Ceará'),\n",
        "            ('user7', 'yz12', 'Pernambuco'),\n",
        "            ('user8', '3456', 'Santa Catarina'),\n",
        "            ('user9', '7890', 'Espírito Santo')\n",
        "        ]\n",
        "        cursor.executemany(\"INSERT INTO users (username, password, estado) VALUES (?, ?, ?)\", usuarios)\n",
        "\n",
        "    conn.commit()\n",
        "    return conn, cursor\n",
        "\n",
        "# Função para login vulnerável (Injeção SQL)\n",
        "def login_vulnerable(cursor, username, password):\n",
        "    # Vulnerabilidade: construção da consulta diretamente com entradas do usuário\n",
        "    query = f\"SELECT * FROM users WHERE username = '{username}' AND password = '{password}'\"\n",
        "    cursor.execute(query)\n",
        "    return cursor.fetchall()\n",
        "\n",
        "# Cria e obter a conexão com o banco de dados e o cursor\n",
        "conn, cursor = create_db()\n",
        "\n",
        "# Campos de entrada para nome de usuário e senha\n",
        "entrada_usuario = widgets.Text(\n",
        "    description='Usuário:',\n",
        "    placeholder='Digite seu nome de usuário'\n",
        ")\n",
        "\n",
        "entrada_senha = widgets.Password(\n",
        "    description='Senha:',\n",
        "    placeholder='Digite sua senha'\n",
        ")\n",
        "\n",
        "# Botão para consultar\n",
        "botao_consultar = widgets.Button(\n",
        "    description='Login'\n",
        ")\n",
        "\n",
        "# Saída para exibir informações do usuário\n",
        "output = widgets.Output()\n",
        "\n",
        "# Ação do botão\n",
        "def on_button_click_vulnerable(b):\n",
        "    clear_output()  # Limpar a saída anterior\n",
        "    username = entrada_usuario.value\n",
        "    password = entrada_senha.value\n",
        "\n",
        "    with output:\n",
        "        result = login_vulnerable(cursor, username, password)\n",
        "\n",
        "        # Se resultados forem encontrados, exibir os dados\n",
        "        if result:\n",
        "            for user in result:\n",
        "                user_id, user_username, user_password, user_estado = user\n",
        "                print(f\"ID: {user_id}, Usuário: {user_username}, Senha: {user_password}, Estado de Residencia: {user_estado}\")\n",
        "        else:\n",
        "            print(\"Usuário ou senha inválidos.\")\n",
        "\n",
        "    # Reexibir os widgets\n",
        "    display(entrada_usuario, entrada_senha, botao_consultar, output)\n",
        "\n",
        "# Vincular a ação do botão vulnerável\n",
        "botao_consultar.on_click(on_button_click_vulnerable)\n",
        "\n",
        "# Exibir os widgets\n",
        "display(entrada_usuario, entrada_senha, botao_consultar, output)"
      ],
      "metadata": {
        "colab": {
          "base_uri": "https://localhost:8080/",
          "height": 128,
          "referenced_widgets": [
            "a452cb0c488f464dbde34403c25cbb69",
            "2e0aea4eb2134bccad93ae51af46c8e9",
            "698397184a634c04bc70db8d2fd58577",
            "6b9c4548bd144b939f9391e581bb7619",
            "19366cd3c3af4891b6c2d963bd5dcaa4",
            "d8d44e528ebd4474a7ebcb7fc396fb39",
            "1d8d30543c3246b9822368ab1b4e1907",
            "85ef3ed24ba54668bcd02b9141093f45",
            "cc4aa5fe48514f489faeef2c9472f870",
            "93d46dbdc43042b4a8a47ea86e643b0c",
            "b23e943684c44b6ab23d2973e9f87fcb"
          ]
        },
        "id": "t3tmkS3MIcIl",
        "outputId": "31ff077d-9321-4cea-a24a-381da9e71aa8"
      },
      "execution_count": 2,
      "outputs": [
        {
          "output_type": "display_data",
          "data": {
            "text/plain": [
              "Text(value=\"admin' OR '1'='1\", description='Usuário:', placeholder='Digite seu nome de usuário')"
            ],
            "application/vnd.jupyter.widget-view+json": {
              "version_major": 2,
              "version_minor": 0,
              "model_id": "a452cb0c488f464dbde34403c25cbb69"
            }
          },
          "metadata": {}
        },
        {
          "output_type": "display_data",
          "data": {
            "text/plain": [
              "Password(description='Senha:', placeholder='Digite sua senha')"
            ],
            "application/vnd.jupyter.widget-view+json": {
              "version_major": 2,
              "version_minor": 0,
              "model_id": "6b9c4548bd144b939f9391e581bb7619"
            }
          },
          "metadata": {}
        },
        {
          "output_type": "display_data",
          "data": {
            "text/plain": [
              "Button(description='Login', style=ButtonStyle())"
            ],
            "application/vnd.jupyter.widget-view+json": {
              "version_major": 2,
              "version_minor": 0,
              "model_id": "1d8d30543c3246b9822368ab1b4e1907"
            }
          },
          "metadata": {}
        },
        {
          "output_type": "display_data",
          "data": {
            "text/plain": [
              "Output()"
            ],
            "application/vnd.jupyter.widget-view+json": {
              "version_major": 2,
              "version_minor": 0,
              "model_id": "93d46dbdc43042b4a8a47ea86e643b0c"
            }
          },
          "metadata": {}
        }
      ]
    },
    {
      "cell_type": "markdown",
      "source": [
        "A Construção da Consulta SQL: A consulta SQL é construída diretamente com as entradas do usuário:\n",
        "\n",
        "query = f\"SELECT * FROM users WHERE username = '{username}' AND password = '{password}'\""
      ],
      "metadata": {
        "id": "ql3jdgjWJQhL"
      }
    },
    {
      "cell_type": "markdown",
      "source": [
        "O invasor pode inserir um nome de usuário como admin' OR '1'='1 e qualquer senha, o que transforma a consulta em algo sempre verdadeiro:\n",
        "\n",
        "\n",
        "SELECT * FROM users WHERE username = 'admin' OR '1'='1' AND password = '';"
      ],
      "metadata": {
        "id": "7PT6JJtzJTyA"
      }
    },
    {
      "cell_type": "markdown",
      "source": [
        "\n",
        "Scrpt Seguro abaixo\n"
      ],
      "metadata": {
        "id": "BrieMzkBJkh2"
      }
    },
    {
      "cell_type": "code",
      "source": [
        "import sqlite3\n",
        "import ipywidgets as widgets\n",
        "from IPython.display import display, clear_output\n",
        "\n",
        "# Conexão com o banco de dados SQLite persistente\n",
        "def create_db():\n",
        "    conn = sqlite3.connect('usuarios.db')  # Cria o arquivo de banco de dados\n",
        "    cursor = conn.cursor()\n",
        "\n",
        "    # Tabela de usuários\n",
        "    cursor.execute('''\n",
        "    CREATE TABLE IF NOT EXISTS users (\n",
        "        id INTEGER PRIMARY KEY AUTOINCREMENT,\n",
        "        username TEXT NOT NULL,\n",
        "        password TEXT NOT NULL,\n",
        "        estado TEXT NOT NULL\n",
        "    )\n",
        "    ''')\n",
        "\n",
        "    # Inserir usuários e dados\n",
        "    cursor.execute(\"SELECT COUNT(*) FROM users\")\n",
        "    if cursor.fetchone()[0] == 0:\n",
        "        usuarios = [\n",
        "            ('admin', '1234', 'São Paulo'),\n",
        "            ('user1', 'abcd', 'Rio de Janeiro'),\n",
        "            ('user2', 'efgh', 'Minas Gerais'),\n",
        "            ('user3', 'ijkl', 'Bahia'),\n",
        "            ('user4', 'mnop', 'Paraná'),\n",
        "            ('user5', 'qrst', 'Rio Grande do Sul'),\n",
        "            ('user6', 'uvwx', 'Ceará'),\n",
        "            ('user7', 'yz12', 'Pernambuco'),\n",
        "            ('user8', '3456', 'Santa Catarina'),\n",
        "            ('user9', '7890', 'Espírito Santo')\n",
        "        ]\n",
        "        cursor.executemany(\"INSERT INTO users (username, password, estado) VALUES (?, ?, ?)\", usuarios)\n",
        "\n",
        "    conn.commit()\n",
        "    return conn, cursor\n",
        "\n",
        "# Função para login seguro (Mitigação da Injeção SQL)\n",
        "def login_secure(cursor, username, password):\n",
        "    # Uso de Prepared Statements (para evitar injeção SQL)\n",
        "    query = \"SELECT * FROM users WHERE username = ? AND password = ?\"\n",
        "    cursor.execute(query, (username, password))\n",
        "    return cursor.fetchall()\n",
        "\n",
        "# Cria e obter a conexão com o banco de dados e o cursor\n",
        "conn, cursor = create_db()\n",
        "\n",
        "# Campos de entrada para nome de usuário e senha\n",
        "entrada_usuario = widgets.Text(\n",
        "    description='Usuário:',\n",
        "    placeholder='Digite seu nome de usuário'\n",
        ")\n",
        "\n",
        "entrada_senha = widgets.Password(\n",
        "    description='Senha:',\n",
        "    placeholder='Digite sua senha'\n",
        ")\n",
        "\n",
        "# Botão para consultar\n",
        "botao_consultar = widgets.Button(\n",
        "    description='Login'\n",
        ")\n",
        "\n",
        "# Saída para exibir informações do usuário\n",
        "output = widgets.Output()\n",
        "\n",
        "# Ação do botão\n",
        "def on_button_click_secure(b):\n",
        "    clear_output()  # Limpar a saída anterior\n",
        "    username = entrada_usuario.value\n",
        "    password = entrada_senha.value\n",
        "\n",
        "    with output:\n",
        "        result = login_secure(cursor, username, password)\n",
        "\n",
        "        # Se resultados forem encontrados, exibir os dados\n",
        "        if result:\n",
        "            for user in result:\n",
        "                user_id, user_username, user_password, user_estado = user\n",
        "                print(f\"ID: {user_id}, Usuário: {user_username}, Senha: {user_password}, Estado de Residencia: {user_estado}\")\n",
        "        else:\n",
        "            print(\"Usuário ou senha inválidos.\")\n",
        "\n",
        "    # Reexibir os widgets\n",
        "    display(entrada_usuario, entrada_senha, botao_consultar, output)\n",
        "\n",
        "# Vincular a ação do botão seguro\n",
        "botao_consultar.on_click(on_button_click_secure)\n",
        "\n",
        "# Exibir os widgets\n",
        "display(entrada_usuario, entrada_senha, botao_consultar, output)"
      ],
      "metadata": {
        "colab": {
          "base_uri": "https://localhost:8080/",
          "height": 111,
          "referenced_widgets": [
            "fc6a15d7576b42f5ba7e90d2962f16fd",
            "a3c9d078083242e699814463830f2604",
            "1b5cc17ab0e24eaf9cc3f0c12e4714fe",
            "97fce1be09084954859b43c442e5cbd8",
            "303e30cb94b34a359a8e91c104c679cc",
            "670d0a0284fc4928895a5ca1b0e5bed9",
            "8550dace3aa448318efec15935ae15a3",
            "12a1521360304e20a37d5feb91e6f3f7",
            "43515f4ada2d4d039f2e187f08867963",
            "9a1fa8ca2f984eab92de9ae43017ba51",
            "c5204560954c422299d64490eca0ed8b"
          ]
        },
        "id": "9FBNqL48Jqu3",
        "outputId": "4fec7e15-10cf-4efd-a992-ea38b820fcec"
      },
      "execution_count": 3,
      "outputs": [
        {
          "output_type": "display_data",
          "data": {
            "text/plain": [
              "Text(value='', description='Usuário:', placeholder='Digite seu nome de usuário')"
            ],
            "application/vnd.jupyter.widget-view+json": {
              "version_major": 2,
              "version_minor": 0,
              "model_id": "fc6a15d7576b42f5ba7e90d2962f16fd"
            }
          },
          "metadata": {}
        },
        {
          "output_type": "display_data",
          "data": {
            "text/plain": [
              "Password(description='Senha:', placeholder='Digite sua senha')"
            ],
            "application/vnd.jupyter.widget-view+json": {
              "version_major": 2,
              "version_minor": 0,
              "model_id": "97fce1be09084954859b43c442e5cbd8"
            }
          },
          "metadata": {}
        },
        {
          "output_type": "display_data",
          "data": {
            "text/plain": [
              "Button(description='Login', style=ButtonStyle())"
            ],
            "application/vnd.jupyter.widget-view+json": {
              "version_major": 2,
              "version_minor": 0,
              "model_id": "8550dace3aa448318efec15935ae15a3"
            }
          },
          "metadata": {}
        },
        {
          "output_type": "display_data",
          "data": {
            "text/plain": [
              "Output()"
            ],
            "application/vnd.jupyter.widget-view+json": {
              "version_major": 2,
              "version_minor": 0,
              "model_id": "9a1fa8ca2f984eab92de9ae43017ba51"
            }
          },
          "metadata": {}
        }
      ]
    },
    {
      "cell_type": "markdown",
      "source": [
        "Uso de Prepared Statements:\n",
        "A função login_secure usa placeholders (?) na consulta SQL, evitando que entradas do usuário sejam interpretadas como código SQL:\n",
        "\n",
        "\n",
        "\n",
        "query = \"SELECT * FROM users WHERE username = ? AND password = ?\"\n",
        "cursor.execute(query, (username, password))"
      ],
      "metadata": {
        "id": "vFMP9BpzJ-y3"
      }
    },
    {
      "cell_type": "markdown",
      "source": [
        "Ele separama lógica da consulta dos dados que serão inseridos, o que minimiza o risco de injeções SQL.\n",
        "\n",
        "Funcionamente:\n",
        " Em vez de concatenar strings para criar uma consulta SQL,  usa marcadores de posição (placeholders) na consulta.\n",
        "\n",
        "  No SQLite e muitas outras bibliotecas de banco de dados, o placeholder é representado por um ponto de interrogação (?).\n",
        "\n",
        " Ao executar a consulta, os valores reais são passados separadamente.\n",
        " O banco de dados trata esses valores como dados, não como parte do código SQL."
      ],
      "metadata": {
        "id": "JUaUwtgGJDTD"
      }
    }
  ]
}